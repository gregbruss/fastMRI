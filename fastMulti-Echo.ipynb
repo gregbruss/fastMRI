{
 "cells": [
  {
   "cell_type": "code",
   "execution_count": 1,
   "metadata": {},
   "outputs": [],
   "source": [
    "# Handling of Multi-Echo Data"
   ]
  },
  {
   "cell_type": "code",
   "execution_count": null,
   "metadata": {},
   "outputs": [],
   "source": []
  }
 ],
 "metadata": {
  "language_info": {
   "codemirror_mode": {
    "name": "ipython",
    "version": 3
   },
   "file_extension": ".py",
   "mimetype": "text/x-python",
   "name": "python",
   "nbconvert_exporter": "python",
   "pygments_lexer": "ipython3",
   "version": "3.6.10-final"
  },
  "orig_nbformat": 2,
  "kernelspec": {
   "name": "python361064bitfastmriconda1b1bcbe1e15b4d5989f211dd27e3094a",
   "display_name": "Python 3.6.10 64-bit ('fastmri': conda)"
  }
 },
 "nbformat": 4,
 "nbformat_minor": 2
}